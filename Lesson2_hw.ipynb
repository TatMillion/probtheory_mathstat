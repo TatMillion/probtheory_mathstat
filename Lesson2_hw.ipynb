{
 "cells": [
  {
   "cell_type": "markdown",
   "metadata": {},
   "source": [
    "# Урок 2. Дискретные случайные величины. Закон распределения вероятностей. Биномиальный закон распределения. Распределение Пуассона"
   ]
  },
  {
   "cell_type": "code",
   "execution_count": 1,
   "metadata": {},
   "outputs": [],
   "source": [
    "import numpy as np\n",
    "import pandas as pd"
   ]
  },
  {
   "cell_type": "markdown",
   "metadata": {},
   "source": [
    "Задача 1\n",
    "\n",
    "Контрольная работа состоит из пяти вопросов. На каждый вопрос приведено четыре варианта ответа, один из которых правильный. Составьте закон распределения числа правильных ответов при простом угадывании. Найдите M(X), D(X)."
   ]
  },
  {
   "cell_type": "markdown",
   "metadata": {},
   "source": [
    "Вариантов выбора ответа 4, следовательно вероятность выбора правильного ответа p = 0.25. Вопросов 5, n = 5. k - количество верно отгаданных вопросов может быть от 0 до 5"
   ]
  },
  {
   "cell_type": "code",
   "execution_count": 2,
   "metadata": {},
   "outputs": [],
   "source": [
    "n = 5 # количество вопросов\n",
    "p = 0.25 # вероятность правильно ответить на 1 вопрос\n",
    "r = np.arange(6) # количество правильных ответов от 1 до 5"
   ]
  },
  {
   "cell_type": "code",
   "execution_count": 3,
   "metadata": {},
   "outputs": [],
   "source": [
    "def combinations(n: int, k: int) -> int:\n",
    "    result = np.math.factorial(n) // (np.math.factorial(k) * np.math.factorial(n - k))\n",
    "    return result"
   ]
  },
  {
   "cell_type": "code",
   "execution_count": 4,
   "metadata": {},
   "outputs": [],
   "source": [
    "def Bernoulli(k:int, n:int, p:float):\n",
    "#распределения случайных величин\n",
    "    \n",
    "    return combinations(n,k)*(p**k)*((1-p)**(n-k))"
   ]
  },
  {
   "cell_type": "code",
   "execution_count": 5,
   "metadata": {},
   "outputs": [
    {
     "data": {
      "text/plain": [
       "[0.2373046875,\n",
       " 0.3955078125,\n",
       " 0.263671875,\n",
       " 0.087890625,\n",
       " 0.0146484375,\n",
       " 0.0009765625]"
      ]
     },
     "execution_count": 5,
     "metadata": {},
     "output_type": "execute_result"
    }
   ],
   "source": [
    "result = [Bernoulli(k, n, p) for k in r]\n",
    "result"
   ]
  },
  {
   "cell_type": "code",
   "execution_count": 6,
   "metadata": {},
   "outputs": [
    {
     "name": "stdout",
     "output_type": "stream",
     "text": [
      "Матожидание: 1.25\n",
      "Дисперсия: 0.9375\n"
     ]
    }
   ],
   "source": [
    "Mx = n*p\n",
    "Dx = Mx*(1-p)\n",
    "print(f\"Матожидание: {Mx}\\nДисперсия: {Dx}\")"
   ]
  },
  {
   "cell_type": "markdown",
   "metadata": {},
   "source": [
    "Задача 2\n",
    "\n",
    "Вероятность попадания в цель при одном выстреле равна 0.01. Какова вероятность того, что число попаданий при 200 выстрелах будет не менее 5 и не более 10?"
   ]
  },
  {
   "cell_type": "markdown",
   "metadata": {},
   "source": [
    "можем допустить, что рассматриваемая величина имеет распределение Пуассона, так как количество выстрелов довольно высокое, а вероятность мала:$$P(X = k) = \\dfrac{a^k e ^{-a}}{k!}.$$\n",
    "Поскольку надо найти вероятность попаданий в диапазоне, просуммируем вероятности от 5 до 10 включительно."
   ]
  },
  {
   "cell_type": "code",
   "execution_count": 7,
   "metadata": {},
   "outputs": [
    {
     "name": "stdout",
     "output_type": "stream",
     "text": [
      "Вероятность того, что число попаданий будет не менее 5 и не более 10: 0.052644709119342686\n"
     ]
    }
   ],
   "source": [
    "P = 0\n",
    "for k in range(5, 11):\n",
    "    n = 200\n",
    "    p = 0.01\n",
    "    a = n * p\n",
    "    Pi = (a**k*np.math.exp(-a))/(np.math.factorial(k))\n",
    "    P += Pi\n",
    "print(f\"Вероятность того, что число попаданий будет не менее 5 и не более 10: {P}\")"
   ]
  },
  {
   "cell_type": "markdown",
   "metadata": {},
   "source": [
    "Задача 3\n",
    "\n",
    "В условиях предыдущей задачи сколько выстрелов нужно сделать чтобы быть уверенным с вероятностью 0.9, что хотя бы 10 раз будет совершено попадание?\n",
    "\n",
    "Подсказка. Как посчитать P(X >= k) для величины X, имеющей биномиальное распределение? Здесь предстоит немножко покодить."
   ]
  },
  {
   "cell_type": "code",
   "execution_count": 8,
   "metadata": {},
   "outputs": [
    {
     "name": "stdout",
     "output_type": "stream",
     "text": [
      "Нужно сделать не менее 1421 выстрелов.\n"
     ]
    }
   ],
   "source": [
    "\n",
    "Psum = 1\n",
    "n = 10\n",
    "while Psum > 0.1:\n",
    "    Psum = 0\n",
    "    for k in range(0, 10):\n",
    "        p = 0.01\n",
    "        a = n * p\n",
    "        P = (a**k*np.math.exp(-a))/(np.math.factorial(k))\n",
    "        Psum += P\n",
    "        # print(f\"Вероятность попасть {k} раз в мишень: {P}\")\n",
    "    n += 1\n",
    "print(f\"Нужно сделать не менее {n - 1} выстрелов.\")"
   ]
  }
 ],
 "metadata": {
  "kernelspec": {
   "display_name": "Python 3",
   "language": "python",
   "name": "python3"
  },
  "language_info": {
   "codemirror_mode": {
    "name": "ipython",
    "version": 3
   },
   "file_extension": ".py",
   "mimetype": "text/x-python",
   "name": "python",
   "nbconvert_exporter": "python",
   "pygments_lexer": "ipython3",
   "version": "3.8.5"
  }
 },
 "nbformat": 4,
 "nbformat_minor": 4
}
