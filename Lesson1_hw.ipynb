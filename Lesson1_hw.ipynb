{
 "cells": [
  {
   "cell_type": "markdown",
   "metadata": {},
   "source": [
    "### Урок 1. Случайные события. Условная вероятность. Формула Байеса. Независимые испытания"
   ]
  },
  {
   "cell_type": "code",
   "execution_count": 1,
   "metadata": {},
   "outputs": [],
   "source": [
    "import numpy as np"
   ]
  },
  {
   "cell_type": "code",
   "execution_count": 2,
   "metadata": {},
   "outputs": [],
   "source": [
    "def combinations(n, k):\n",
    "    return np.math.factorial(n) // (np.math.factorial(k) * np.math.factorial(n - k))"
   ]
  },
  {
   "cell_type": "code",
   "execution_count": 3,
   "metadata": {},
   "outputs": [],
   "source": [
    "def arrangements(n, k):\n",
    "    return np.math.factorial(n) // np.math.factorial(n - k)"
   ]
  },
  {
   "cell_type": "code",
   "execution_count": 4,
   "metadata": {},
   "outputs": [],
   "source": [
    "def permutations(n):\n",
    "    return np.math.factorial(n)"
   ]
  },
  {
   "cell_type": "markdown",
   "metadata": {},
   "source": [
    "__Задача 1__\n",
    "\n",
    "Группа студентов изучает 10 различных дисциплин. Сколькими способами можно составить расписание на понедельник, если в этот день должно быть 4 разных занятия?\n",
    "\n",
    "Здесь речь идет о размещение  - это упорядоченный набор из  4  разных занятий, выбранных из множества, содержащего  10  различных дисциплин.Поэтому применим формулу: $$A_n^k = \\frac{n!}{(n - k)!}$$ (число размещений из $n$ по $k$:)"
   ]
  },
  {
   "cell_type": "markdown",
   "metadata": {},
   "source": [
    "$$А_{10}^4 = \\frac{10!}{(10 - 4)!} = \\frac{10!}{6!} = 7 \\cdot 8 \\cdot 9 \\cdot 10= 5040$$"
   ]
  },
  {
   "cell_type": "code",
   "execution_count": 5,
   "metadata": {},
   "outputs": [
    {
     "data": {
      "text/plain": [
       "5040"
      ]
     },
     "execution_count": 5,
     "metadata": {},
     "output_type": "execute_result"
    }
   ],
   "source": [
    "arrangements(10, 4)"
   ]
  },
  {
   "cell_type": "markdown",
   "metadata": {},
   "source": [
    "__Задача 2__\n",
    "\n",
    "Из колоды в 52 карты вынимают случайным образом 4 карты. Найти число исходов, соответствующих тому, что был вытянут хотя бы один туз.\n"
   ]
  },
  {
   "cell_type": "markdown",
   "metadata": {},
   "source": [
    "Чтобы решить эту задачу, нужно сначала рассмотреть ситуацию, когда выбирается 1 туз из четырех.\n",
    "\n",
    "Число таких сочетаний будет равно:"
   ]
  },
  {
   "cell_type": "code",
   "execution_count": 6,
   "metadata": {},
   "outputs": [
    {
     "data": {
      "text/plain": [
       "4"
      ]
     },
     "execution_count": 6,
     "metadata": {},
     "output_type": "execute_result"
    }
   ],
   "source": [
    "combinations(4, 1)"
   ]
  },
  {
   "cell_type": "code",
   "execution_count": 7,
   "metadata": {},
   "outputs": [
    {
     "data": {
      "text/plain": [
       "17296"
      ]
     },
     "execution_count": 7,
     "metadata": {},
     "output_type": "execute_result"
    }
   ],
   "source": [
    "#Остальные три карты выбираются из 48 карт — тузы не рассматриваются, так как они уже выбраны:\n",
    "combinations(48, 3)"
   ]
  },
  {
   "cell_type": "code",
   "execution_count": 8,
   "metadata": {},
   "outputs": [
    {
     "data": {
      "text/plain": [
       "69184"
      ]
     },
     "execution_count": 8,
     "metadata": {},
     "output_type": "execute_result"
    }
   ],
   "source": [
    "# И в этом случае будет такое число сочетаний, когда из колоды, в которой 52 карт, выбраны 4, одна из которых — тузы:\n",
    "combinations(4, 1) * combinations(48, 3)"
   ]
  },
  {
   "cell_type": "code",
   "execution_count": 9,
   "metadata": {},
   "outputs": [
    {
     "data": {
      "text/plain": [
       "76145"
      ]
     },
     "execution_count": 9,
     "metadata": {},
     "output_type": "execute_result"
    }
   ],
   "source": [
    "# + по аналогии нужно рассмотреть ситуации, когда среди 4 карт вытянцт 2, 3 или 4 туза\n",
    "#полученные числа сочетаний осталось сложить\n",
    "combinations(4, 1)*combinations(48, 3)+ combinations(4, 2)*combinations(48, 2)+combinations(4, 3)*combinations(48, 1)+combinations(4, 4)*combinations(48, 0)\n",
    "#Общее число исходов, когда среди 4-х карт окажется хотя бы один туз"
   ]
  },
  {
   "cell_type": "markdown",
   "metadata": {},
   "source": [
    "__Задача 3__\n",
    "\n",
    "Семь человек рассаживаются наудачу на скамейке. Какова вероятность того, что два определённых человека будут сидеть рядом?\n",
    "Формула для вероятности P=m/n\n",
    "$$P(A) = \\frac{m}{n}$$\n",
    "Всего пар соседних мест - 6. Каждая пара человек может сесть двумя способами. Все остальные 5 любыми, то есть 5! способами.\n",
    "\n",
    "Рассадить всех можем 7! способами\n",
    "\n",
    "$m={6\\cdot2\\cdot5!}$;\n",
    "$n=7!$\n",
    "\n",
    "Вероятность того, что два определенных человека будут сидеть рядом : $P=\\frac{(6\\cdot2\\cdot5!)}{7!}=\\frac{2}{7}$"
   ]
  },
  {
   "cell_type": "code",
   "execution_count": 10,
   "metadata": {},
   "outputs": [],
   "source": [
    "# Посчитаем число способов сесть для семи человек:\n",
    "n = permutations(7)"
   ]
  },
  {
   "cell_type": "code",
   "execution_count": 11,
   "metadata": {},
   "outputs": [
    {
     "data": {
      "text/plain": [
       "0.2857142857142857"
      ]
     },
     "execution_count": 11,
     "metadata": {},
     "output_type": "execute_result"
    }
   ],
   "source": [
    "#Для семи человек всего пар соседних мест - 6. \n",
    "#число способов сесть рядом для двух определённых людей:\n",
    "m= 6*2*permutations(5)\n",
    "# Вероятность того, что два определенных человека будут сидеть рядом:\n",
    "p = m/n\n",
    "p"
   ]
  },
  {
   "cell_type": "code",
   "execution_count": 12,
   "metadata": {},
   "outputs": [
    {
     "data": {
      "text/plain": [
       "0.2857142857142857"
      ]
     },
     "execution_count": 12,
     "metadata": {},
     "output_type": "execute_result"
    }
   ],
   "source": [
    "#проверка\n",
    "p = 2/7\n",
    "p"
   ]
  },
  {
   "cell_type": "markdown",
   "metadata": {},
   "source": [
    "__Задача 4__\n",
    "\n",
    "Из 60 вопросов, входящих в экзаменационные билеты, студент знает 50. Какова вероятность того, что среди трёх наугад выбранных вопросов студент знает: а) все? б) два?"
   ]
  },
  {
   "cell_type": "code",
   "execution_count": 13,
   "metadata": {},
   "outputs": [],
   "source": [
    "#Общее число случаев вытягивания 3 билетов \n",
    "n = combinations(60, 3)"
   ]
  },
  {
   "cell_type": "code",
   "execution_count": 14,
   "metadata": {},
   "outputs": [],
   "source": [
    "#Общее число случаев вытягивания 3 билетов, когда cтудент знает их все\n",
    "m = combinations(50, 3)"
   ]
  },
  {
   "cell_type": "code",
   "execution_count": 15,
   "metadata": {},
   "outputs": [
    {
     "data": {
      "text/plain": [
       "0.5727644652250146"
      ]
     },
     "execution_count": 15,
     "metadata": {},
     "output_type": "execute_result"
    }
   ],
   "source": [
    "# вероятность того, что среди трёх наугад выбранных вопросов студент знает: все\n",
    "p = m/n\n",
    "p"
   ]
  },
  {
   "cell_type": "code",
   "execution_count": 16,
   "metadata": {},
   "outputs": [
    {
     "data": {
      "text/plain": [
       "0.35797779076563413"
      ]
     },
     "execution_count": 16,
     "metadata": {},
     "output_type": "execute_result"
    }
   ],
   "source": [
    "#Общее число случаев вытягивания 3 билетов, когда cтудент знает только 2\n",
    "m = combinations(50, 2)*combinations(10, 1) #еще надо учиывать 10 невыученных вопросов, и остаетя третий вопрос,  т.е. нужно посчитать сочетания для одного вопроса, который студент не знает.\n",
    "p = m/n\n",
    "p"
   ]
  },
  {
   "cell_type": "markdown",
   "metadata": {},
   "source": [
    "__Задача 5__\n",
    "\n",
    "Бросается игральная кость. Пусть событие `A` - появление чётного числа, событие `B` - появление числа больше трёх. Являются ли эти события независимыми?\n",
    "\n",
    "\n",
    "Эти события совместные, но независимые. Вероятность выпадения четного или числа больше трех не зависят друг от друга. Выпадение одного из них не исключает появления другого в одном и том же испытании."
   ]
  },
  {
   "cell_type": "markdown",
   "metadata": {},
   "source": [
    "__Задача 6__\n",
    "\n",
    "Допустим, имеется некоторая очень редкая болезнь (поражает 0.1 % населения). Вы приходите к врачу, вам делают тест на эту болезнь, и тест оказывается положительным. Врач говорит вам, что этот тест верно выявляет 99 % больных этой болезнью и всего лишь в 1 % случаев даёт ложный положительный ответ.\n",
    "\n",
    "_Вопрос_: какова вероятность, что вы действительно больны ей?\n",
    "\n",
    "_Подсказка_: вновь используйте формулу Байеса с раскрытием знаменателя с помощью формулы полной вероятности."
   ]
  },
  {
   "cell_type": "markdown",
   "metadata": {},
   "source": [
    "Ответ:\n",
    "Пусть А - искомое событие(я действительно болен)\n",
    "\n",
    "B1(я болен) = 0.1\n",
    "\n",
    "B2(я не болен) = 0.9\n",
    "\n",
    "Получаем условные вероятности исходя из точности теста:\n",
    "\n",
    "Тест верен:\n",
    "\n",
    "$P(A|B1) = 0.9$\n",
    "\n",
    "Тест неверен:\n",
    "\n",
    "$P(A|B2) = 0.1$\n",
    "\n",
    "По формуле полной вероятности вероятность события A:\n",
    "\n",
    "$P(A) = P(A|B1) P(B1) + P(A|B2) P(B2) = 0.9\\cdot0.1 + 0.1\\cdot0.9 = 0.18$\n",
    "\n",
    "$P(A) = 0.18$"
   ]
  }
 ],
 "metadata": {
  "kernelspec": {
   "display_name": "Python 3",
   "language": "python",
   "name": "python3"
  },
  "language_info": {
   "codemirror_mode": {
    "name": "ipython",
    "version": 3
   },
   "file_extension": ".py",
   "mimetype": "text/x-python",
   "name": "python",
   "nbconvert_exporter": "python",
   "pygments_lexer": "ipython3",
   "version": "3.8.5"
  }
 },
 "nbformat": 4,
 "nbformat_minor": 4
}
