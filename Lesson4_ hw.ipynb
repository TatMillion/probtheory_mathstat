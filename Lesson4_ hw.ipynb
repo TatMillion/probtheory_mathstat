{
 "cells": [
  {
   "cell_type": "markdown",
   "metadata": {},
   "source": [
    "# Урок 4. Непрерывные случайные величины. Функция распределения и плотность распределения вероятностей. Равномерное и нормальное распределение. Центральная предельная теорема"
   ]
  },
  {
   "cell_type": "code",
   "execution_count": 1,
   "metadata": {},
   "outputs": [],
   "source": [
    "import numpy as np\n",
    "from scipy.special import erf"
   ]
  },
  {
   "cell_type": "markdown",
   "metadata": {},
   "source": [
    "Задача 1\n",
    "\n",
    "О непрерывной равномерно распределенной случайной величине B известно, что ее дисперсия равна 0.2. Можно ли найти правую границу величины B и ее среднее значение зная, что левая граница равна 0.5? Если да, найдите ее."
   ]
  },
  {
   "cell_type": "markdown",
   "metadata": {},
   "source": [
    "Для равномерно распределённой случайной величины с параметрами $a$ и $b$ её дисперсия равна: $$D(X) = \\frac{(b - a)^2}{12}$$\n",
    "\n",
    "По условию задачи $D(B) = 0.2$ и $a = 0.5$\n",
    "$$0.2 = \\frac{(b - 0.5)^2}{12}$$ $$2.4 = b^2 - b + 0.25$$ $$b^2 - b - 2,15 = 0$$ $$b = \\frac{1 \\pm \\sqrt{9.6}}{2}$$ $$b_1 = 2.049 \\quad b_2 = −1.049$$ $$-1.049 < 0.5 \\quad \\text{не подходит по условию, так как левая граница = 0.5}$$ $$M(X) = \\frac{a + b}{2} = \\frac{0.5 + 2.049}{2} = 1.275$$"
   ]
  },
  {
   "cell_type": "code",
   "execution_count": 2,
   "metadata": {},
   "outputs": [
    {
     "data": {
      "text/plain": [
       "1.2745966692414834"
      ]
     },
     "execution_count": 2,
     "metadata": {},
     "output_type": "execute_result"
    }
   ],
   "source": [
    "from math import sqrt\n",
    "# правая граница\n",
    "def right_side(left_side, var):\n",
    "    return sqrt(12 * var) + left_side\n",
    "# мат ожидание\n",
    "def mean(left_value, right_value):\n",
    "    return (left_value + right_value) / 2\n",
    "\n",
    "D = 0.2\n",
    "a = 0.5\n",
    "\n",
    "b = right_side(a, D)\n",
    "M = mean(a, b)\n",
    "M"
   ]
  },
  {
   "cell_type": "markdown",
   "metadata": {},
   "source": [
    "Задача 2\n",
    "\n",
    "Рост взрослого населения города X имеет нормальное распределение, причем, средний рост равен 174 см, а среднее квадратическое отклонение равно 8 см. посчитайте, какова вероятность того, что случайным образом выбранный взрослый человек имеет рост:\n",
    "1. больше 182 см?\n",
    "2. больше 190 см?\n",
    "3. от 166 см до 190 см?\n",
    "4. от 166 см до 182 см?\n",
    "5. от 158 см до 190 см?\n",
    "6. не выше 150 см или не ниже 190 см?\n",
    "7. не выше 150 см или не ниже 198 см?\n",
    "8. ниже 166 см?\n",
    "\n",
    "Задачу можно решить двумя способами: без использования сторонних библиотек (numpy, scipy, pandas и пр.), а затем проверить себя с помощью встроенных функций"
   ]
  },
  {
   "cell_type": "code",
   "execution_count": 3,
   "metadata": {},
   "outputs": [],
   "source": [
    "# необходимо нормировать распределение, вычислить z, \n",
    "# найти значения вероятностей по z в таблице накопленного нормального распределения,\n",
    "# вычислить вероятность по условию\n",
    "def normalize(current_value, mean, std):\n",
    "    return (current_value - mean) / std\n",
    "\n",
    "m_x = 174\n",
    "std_x = 8"
   ]
  },
  {
   "cell_type": "code",
   "execution_count": 4,
   "metadata": {},
   "outputs": [
    {
     "data": {
      "text/plain": [
       "1.0"
      ]
     },
     "execution_count": 4,
     "metadata": {},
     "output_type": "execute_result"
    }
   ],
   "source": [
    "z_a = normalize(182, m_x, std_x)\n",
    "z_a"
   ]
  },
  {
   "cell_type": "code",
   "execution_count": 5,
   "metadata": {},
   "outputs": [],
   "source": [
    "# из таблицы, вероятность значения до 1\n",
    "p_a = 0.8413"
   ]
  },
  {
   "cell_type": "code",
   "execution_count": 6,
   "metadata": {},
   "outputs": [
    {
     "data": {
      "text/plain": [
       "0.1587"
      ]
     },
     "execution_count": 6,
     "metadata": {},
     "output_type": "execute_result"
    }
   ],
   "source": [
    "#Ответ 1. Если рост больше 182 см\n",
    "p = round(1 - p_a, 4)\n",
    "p"
   ]
  },
  {
   "cell_type": "code",
   "execution_count": 7,
   "metadata": {},
   "outputs": [
    {
     "data": {
      "text/plain": [
       "2.0"
      ]
     },
     "execution_count": 7,
     "metadata": {},
     "output_type": "execute_result"
    }
   ],
   "source": [
    "z_b = normalize(190, m_x, std_x)\n",
    "z_b"
   ]
  },
  {
   "cell_type": "code",
   "execution_count": 8,
   "metadata": {},
   "outputs": [],
   "source": [
    "# из таблицы, вероятность значения до 2\n",
    "p_b = 0.9772"
   ]
  },
  {
   "cell_type": "code",
   "execution_count": 9,
   "metadata": {},
   "outputs": [
    {
     "data": {
      "text/plain": [
       "0.0228"
      ]
     },
     "execution_count": 9,
     "metadata": {},
     "output_type": "execute_result"
    }
   ],
   "source": [
    "# Ответ 2. Если рост больше 190 см\n",
    "p = round(1 - p_b, 4)\n",
    "p"
   ]
  },
  {
   "cell_type": "code",
   "execution_count": 10,
   "metadata": {},
   "outputs": [
    {
     "data": {
      "text/plain": [
       "-1.0"
      ]
     },
     "execution_count": 10,
     "metadata": {},
     "output_type": "execute_result"
    }
   ],
   "source": [
    "z_с_1 = normalize(166, m_x, std_x)\n",
    "z_с_1"
   ]
  },
  {
   "cell_type": "code",
   "execution_count": 11,
   "metadata": {},
   "outputs": [
    {
     "data": {
      "text/plain": [
       "2.0"
      ]
     },
     "execution_count": 11,
     "metadata": {},
     "output_type": "execute_result"
    }
   ],
   "source": [
    "z_с_2 = normalize(190, m_x, std_x)\n",
    "z_с_2"
   ]
  },
  {
   "cell_type": "code",
   "execution_count": 12,
   "metadata": {},
   "outputs": [],
   "source": [
    "# из таблицы, вероятность значения до -1\n",
    "p_с_1 = 0.1587\n",
    "# из таблицы, вероятность значения до 2\n",
    "p_с_2 = 0.9772"
   ]
  },
  {
   "cell_type": "code",
   "execution_count": 13,
   "metadata": {},
   "outputs": [
    {
     "data": {
      "text/plain": [
       "0.8185"
      ]
     },
     "execution_count": 13,
     "metadata": {},
     "output_type": "execute_result"
    }
   ],
   "source": [
    "# Ответ 3. Если рост от 166 см до 190 см\n",
    "p = round(p_с_2 - p_с_1, 4)\n",
    "p"
   ]
  },
  {
   "cell_type": "code",
   "execution_count": 14,
   "metadata": {},
   "outputs": [
    {
     "data": {
      "text/plain": [
       "-1.0"
      ]
     },
     "execution_count": 14,
     "metadata": {},
     "output_type": "execute_result"
    }
   ],
   "source": [
    "z_d_1 = normalize(166, m_x, std_x)\n",
    "z_d_1"
   ]
  },
  {
   "cell_type": "code",
   "execution_count": 15,
   "metadata": {},
   "outputs": [
    {
     "data": {
      "text/plain": [
       "1.0"
      ]
     },
     "execution_count": 15,
     "metadata": {},
     "output_type": "execute_result"
    }
   ],
   "source": [
    "z_d_2 = normalize(182, m_x, std_x)\n",
    "z_d_2"
   ]
  },
  {
   "cell_type": "code",
   "execution_count": 16,
   "metadata": {},
   "outputs": [],
   "source": [
    "# из таблицы, вероятность значения до -1\n",
    "p_d_1 = 0.1587\n",
    "# из таблицы, вероятность значения до 1\n",
    "p_d_2 = 0.8413"
   ]
  },
  {
   "cell_type": "code",
   "execution_count": 17,
   "metadata": {},
   "outputs": [
    {
     "data": {
      "text/plain": [
       "0.6826"
      ]
     },
     "execution_count": 17,
     "metadata": {},
     "output_type": "execute_result"
    }
   ],
   "source": [
    "#Ответ 4. Если рост от 166 см до 182 см\n",
    "p = round(p_d_2 - p_d_1, 4)\n",
    "p"
   ]
  },
  {
   "cell_type": "code",
   "execution_count": 18,
   "metadata": {},
   "outputs": [
    {
     "data": {
      "text/plain": [
       "-2.0"
      ]
     },
     "execution_count": 18,
     "metadata": {},
     "output_type": "execute_result"
    }
   ],
   "source": [
    "z_e_1 = normalize(158, m_x, std_x)\n",
    "z_e_1"
   ]
  },
  {
   "cell_type": "code",
   "execution_count": 19,
   "metadata": {},
   "outputs": [
    {
     "data": {
      "text/plain": [
       "2.0"
      ]
     },
     "execution_count": 19,
     "metadata": {},
     "output_type": "execute_result"
    }
   ],
   "source": [
    "z_e_2 = normalize(190, m_x, std_x)\n",
    "z_e_2"
   ]
  },
  {
   "cell_type": "code",
   "execution_count": 20,
   "metadata": {},
   "outputs": [],
   "source": [
    "# из таблицы, вероятность значения до -2\n",
    "p_e_1 = 0.0228\n",
    "# из таблицы, вероятность значения до 2\n",
    "p_e_2 = 0.9772"
   ]
  },
  {
   "cell_type": "code",
   "execution_count": 21,
   "metadata": {},
   "outputs": [
    {
     "data": {
      "text/plain": [
       "0.9544"
      ]
     },
     "execution_count": 21,
     "metadata": {},
     "output_type": "execute_result"
    }
   ],
   "source": [
    "# Ответ 5. Если рост от 158 см до 190 см\n",
    "p = round(p_e_2 - p_e_1, 4)\n",
    "p"
   ]
  },
  {
   "cell_type": "code",
   "execution_count": 22,
   "metadata": {},
   "outputs": [
    {
     "data": {
      "text/plain": [
       "-3.0"
      ]
     },
     "execution_count": 22,
     "metadata": {},
     "output_type": "execute_result"
    }
   ],
   "source": [
    "z_f_1 = normalize(150, m_x, std_x)\n",
    "z_f_1"
   ]
  },
  {
   "cell_type": "code",
   "execution_count": 23,
   "metadata": {},
   "outputs": [
    {
     "data": {
      "text/plain": [
       "2.0"
      ]
     },
     "execution_count": 23,
     "metadata": {},
     "output_type": "execute_result"
    }
   ],
   "source": [
    "z_f_2 = normalize(190, m_x, std_x)\n",
    "z_f_2"
   ]
  },
  {
   "cell_type": "code",
   "execution_count": 24,
   "metadata": {},
   "outputs": [],
   "source": [
    "# из таблицы, вероятность значения до -3\n",
    "p_f_1 = 0.0013\n",
    "# из таблицы, вероятность значения до 2\n",
    "p_f_2 = 0.9772"
   ]
  },
  {
   "cell_type": "code",
   "execution_count": 25,
   "metadata": {},
   "outputs": [
    {
     "data": {
      "text/plain": [
       "0.0241"
      ]
     },
     "execution_count": 25,
     "metadata": {},
     "output_type": "execute_result"
    }
   ],
   "source": [
    "# Ответ 6. Если рост не выше 150 см или не ниже 190 см\n",
    "p = round(p_f_1 + 1 - p_f_2, 4)\n",
    "p"
   ]
  },
  {
   "cell_type": "code",
   "execution_count": 26,
   "metadata": {},
   "outputs": [
    {
     "data": {
      "text/plain": [
       "-3.0"
      ]
     },
     "execution_count": 26,
     "metadata": {},
     "output_type": "execute_result"
    }
   ],
   "source": [
    "z_g_1 = normalize(150, m_x, std_x)\n",
    "z_g_1"
   ]
  },
  {
   "cell_type": "code",
   "execution_count": 27,
   "metadata": {},
   "outputs": [
    {
     "data": {
      "text/plain": [
       "3.0"
      ]
     },
     "execution_count": 27,
     "metadata": {},
     "output_type": "execute_result"
    }
   ],
   "source": [
    "z_g_2 = normalize(198, m_x, std_x)\n",
    "z_g_2"
   ]
  },
  {
   "cell_type": "code",
   "execution_count": 28,
   "metadata": {},
   "outputs": [],
   "source": [
    "\n",
    "# из таблицы, вероятность значения до -3\n",
    "p_g_1 = 0.0013\n",
    "# из таблицы, вероятность значения до 3\n",
    "p_g_2 = 0.9987"
   ]
  },
  {
   "cell_type": "code",
   "execution_count": 29,
   "metadata": {},
   "outputs": [
    {
     "data": {
      "text/plain": [
       "0.0026"
      ]
     },
     "execution_count": 29,
     "metadata": {},
     "output_type": "execute_result"
    }
   ],
   "source": [
    "# Отет 7. Если рост не выше 150 см или не ниже 198 см\n",
    "p = round(p_g_1 + 1 - p_g_2, 4)\n",
    "p"
   ]
  },
  {
   "cell_type": "code",
   "execution_count": 30,
   "metadata": {},
   "outputs": [
    {
     "data": {
      "text/plain": [
       "-1.0"
      ]
     },
     "execution_count": 30,
     "metadata": {},
     "output_type": "execute_result"
    }
   ],
   "source": [
    "z_h = normalize(166, m_x, std_x)\n",
    "z_h"
   ]
  },
  {
   "cell_type": "code",
   "execution_count": 31,
   "metadata": {},
   "outputs": [],
   "source": [
    "# из таблицы, вероятность значения до 1\n",
    "p_h = 0.1587"
   ]
  },
  {
   "cell_type": "code",
   "execution_count": 32,
   "metadata": {},
   "outputs": [
    {
     "data": {
      "text/plain": [
       "0.1587"
      ]
     },
     "execution_count": 32,
     "metadata": {},
     "output_type": "execute_result"
    }
   ],
   "source": [
    "# Ответ 8. Если рост ниже 166 см\n",
    "p = p_h\n",
    "p"
   ]
  },
  {
   "cell_type": "markdown",
   "metadata": {},
   "source": [
    "Задача 3 (Дополнительно)\n",
    "\n",
    "Коробки с шоколадом упаковываются автоматически. Их средняя масса равна 1.06 кг. Известно, что 5% коробок имеют массу, меньшую 1 кг. Найдите: а) среднее квадратическое отклонение массы коробки, б) процент коробок, имеющих массу больше 1.1 кг.\n",
    "\n",
    "Подсказка. 1. Можно считать, что распределение массы коробки нормальное. 2. Найдите такое значение scale, для которого значение cdf(x=1, loc=1.06, scale=scale) близко к 0.05. Точности 0.0001 будет достаточно."
   ]
  },
  {
   "cell_type": "code",
   "execution_count": 33,
   "metadata": {},
   "outputs": [
    {
     "data": {
      "text/plain": [
       "0.06"
      ]
     },
     "execution_count": 33,
     "metadata": {},
     "output_type": "execute_result"
    }
   ],
   "source": [
    "# Узнаём сколько грамм в 1м проценте. Если меньше 1 кг - 5% то от 1.06 кг до 1.00 - 45%\n",
    "interval = round(1.06 - 1, 2) # 45%\n",
    "interval"
   ]
  },
  {
   "cell_type": "code",
   "execution_count": 34,
   "metadata": {},
   "outputs": [
    {
     "data": {
      "text/plain": [
       "0.0013333333333333333"
      ]
     },
     "execution_count": 34,
     "metadata": {},
     "output_type": "execute_result"
    }
   ],
   "source": [
    "# Делим интервал на 45%\n",
    "\n",
    "in_percent = interval / 45\n",
    "in_percent"
   ]
  },
  {
   "cell_type": "markdown",
   "metadata": {},
   "source": [
    " 0.001(3) - в одном 1%\n",
    " \n",
    "**а) среднее квадратическое отклонение массы коробки**"
   ]
  },
  {
   "cell_type": "code",
   "execution_count": 35,
   "metadata": {},
   "outputs": [],
   "source": [
    "loc = 1.06\n",
    "scales = np.arange(0, 1, 0.0001)\n",
    "x = 1"
   ]
  },
  {
   "cell_type": "code",
   "execution_count": 36,
   "metadata": {},
   "outputs": [],
   "source": [
    "# Функция распределения для нормального распределения\n",
    "def cdf_normal(x, loc, scale): \n",
    "    return (1 + erf((x - loc) / (scale * 2**(1/2)))) / 2"
   ]
  },
  {
   "cell_type": "code",
   "execution_count": 37,
   "metadata": {},
   "outputs": [
    {
     "name": "stderr",
     "output_type": "stream",
     "text": [
      "<ipython-input-36-f0c6e802cf4f>:3: RuntimeWarning: divide by zero encountered in double_scalars\n",
      "  return (1 + erf((x - loc) / (scale * 2**(1/2)))) / 2\n"
     ]
    },
    {
     "name": "stdout",
     "output_type": "stream",
     "text": [
      "0.04964026595680804 0.0364\n",
      "0.050105081101494975 0.0365\n"
     ]
    }
   ],
   "source": [
    "for scale in scales:\n",
    "    cdf = cdf_normal(x, loc, scale)\n",
    "    if round(cdf, 3) == 0.05:\n",
    "        print(cdf, round(scale, 4))"
   ]
  },
  {
   "cell_type": "markdown",
   "metadata": {},
   "source": [
    "Ответ а) Квадратичное отклонение массы коробки = 0.0365"
   ]
  },
  {
   "cell_type": "markdown",
   "metadata": {},
   "source": [
    "**б) процент коробок, имеющих массу больше 1.1**"
   ]
  },
  {
   "cell_type": "code",
   "execution_count": 38,
   "metadata": {},
   "outputs": [
    {
     "data": {
      "text/plain": [
       "0.13656336797447755"
      ]
     },
     "execution_count": 38,
     "metadata": {},
     "output_type": "execute_result"
    }
   ],
   "source": [
    "scale = 0.0365\n",
    "1 - cdf_normal(1.1, loc, scale)"
   ]
  },
  {
   "cell_type": "markdown",
   "metadata": {},
   "source": [
    "Ответ б): Процент коробок, имеющих массу больше 1.1 кг = 14%"
   ]
  }
 ],
 "metadata": {
  "kernelspec": {
   "display_name": "Python 3",
   "language": "python",
   "name": "python3"
  },
  "language_info": {
   "codemirror_mode": {
    "name": "ipython",
    "version": 3
   },
   "file_extension": ".py",
   "mimetype": "text/x-python",
   "name": "python",
   "nbconvert_exporter": "python",
   "pygments_lexer": "ipython3",
   "version": "3.8.5"
  }
 },
 "nbformat": 4,
 "nbformat_minor": 4
}
